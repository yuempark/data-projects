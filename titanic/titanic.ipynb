{
 "cells": [
  {
   "cell_type": "markdown",
   "metadata": {},
   "source": [
    "# Titanic\n",
    "\n",
    "This notebook uses supervised machine learning to try to predict which passengers aboard the Titanic were most likely to survive."
   ]
  },
  {
   "cell_type": "markdown",
   "metadata": {},
   "source": [
    "## Part 1: Exploring the Titanic\n",
    "\n",
    "The data can be downloaded [here](https://www.kaggle.com/c/titanic/data).\n",
    "\n",
    "Some helpful information from the website above:\n",
    "\n",
    "| Variable | Definition | Key |\n",
    "|----------|------------|-----|\n",
    "| survival | Survival | 0 = No, 1 = Yes |\n",
    "| pclass | Ticket class | 1 = 1st, 2 = 2nd, 3 = 3rd |\n",
    "| sex | Sex | |\n",
    "| Age | Age | in years |\n",
    "| sibsp | # of siblings / spouses aboard the Titanic | |\n",
    "| parch | # of parents / children aboard the Titanic | |\n",
    "| ticket | Ticket number | |\n",
    "| fare | Passenger fare | |\n",
    "| cabin | Cabin number | |\n",
    "| embarked | Port of Embarkation | C = Cherbourg, Q = Queenstown, S = Southampton |\n",
    "\n",
    "**Variable Notes**\n",
    "\n",
    "`pclass`: A proxy for socio-economic status (SES)\n",
    "* 1st = Upper\n",
    "* 2nd = Middle\n",
    "* 3rd = Lower\n",
    "\n",
    "`age`: Age is fractional if less than 1. If the age is estimated, is it in the form of xx.5\n",
    "\n",
    "`sibsp`: The dataset defines family relations in this way...\n",
    "* Sibling = brother, sister, stepbrother, stepsister\n",
    "* Spouse = husband, wife (mistresses and fiancés were ignored)\n",
    "\n",
    "`parch`: The dataset defines family relations in this way...\n",
    "* Parent = mother, father\n",
    "* Child = daughter, son, stepdaughter, stepson\n",
    "* Some children travelled only with a nanny, therefore `parch`=0 for them."
   ]
  },
  {
   "cell_type": "markdown",
   "metadata": {},
   "source": [
    "### 1.1: Exploratory Data Analysis"
   ]
  },
  {
   "cell_type": "markdown",
   "metadata": {},
   "source": [
    "Import necessary modules:"
   ]
  },
  {
   "cell_type": "code",
   "execution_count": 1,
   "metadata": {},
   "outputs": [],
   "source": [
    "import pandas as pd\n",
    "import numpy as np\n",
    "import matplotlib.pyplot as plt\n",
    "\n",
    "from tqdm import tqdm_notebook\n",
    "from scipy import stats\n",
    "\n",
    "from sklearn.model_selection import train_test_split\n",
    "from sklearn import tree\n",
    "from sklearn.model_selection import KFold\n",
    "from sklearn.ensemble import RandomForestClassifier\n",
    "from sklearn.ensemble import GradientBoostingClassifier\n",
    "from sklearn.impute import SimpleImputer\n",
    "\n",
    "import graphviz"
   ]
  },
  {
   "cell_type": "markdown",
   "metadata": {},
   "source": [
    "Read in data files:"
   ]
  },
  {
   "cell_type": "code",
   "execution_count": 2,
   "metadata": {},
   "outputs": [],
   "source": [
    "train = pd.read_csv('train.csv')\n",
    "test = pd.read_csv('test.csv')"
   ]
  },
  {
   "cell_type": "markdown",
   "metadata": {},
   "source": [
    "Get a sense of the training dataframe using the `DataFrame.info()` method:"
   ]
  },
  {
   "cell_type": "code",
   "execution_count": 3,
   "metadata": {
    "scrolled": false
   },
   "outputs": [
    {
     "name": "stdout",
     "output_type": "stream",
     "text": [
      "<class 'pandas.core.frame.DataFrame'>\n",
      "RangeIndex: 891 entries, 0 to 890\n",
      "Data columns (total 12 columns):\n",
      "PassengerId    891 non-null int64\n",
      "Survived       891 non-null int64\n",
      "Pclass         891 non-null int64\n",
      "Name           891 non-null object\n",
      "Sex            891 non-null object\n",
      "Age            714 non-null float64\n",
      "SibSp          891 non-null int64\n",
      "Parch          891 non-null int64\n",
      "Ticket         891 non-null object\n",
      "Fare           891 non-null float64\n",
      "Cabin          204 non-null object\n",
      "Embarked       889 non-null object\n",
      "dtypes: float64(2), int64(5), object(5)\n",
      "memory usage: 83.6+ KB\n"
     ]
    }
   ],
   "source": [
    "train.info()"
   ]
  },
  {
   "cell_type": "markdown",
   "metadata": {},
   "source": [
    "Convert `Sex` into a binary variable, with:\n",
    "* male = 0\n",
    "* female = 1"
   ]
  },
  {
   "cell_type": "code",
   "execution_count": 4,
   "metadata": {},
   "outputs": [],
   "source": [
    "# train Sex\n",
    "numeric_Sex = np.array([])\n",
    "for i in range(len(train.index)):\n",
    "    if train['Sex'][i] == 'male':\n",
    "        numeric_Sex = np.append(numeric_Sex, 0)\n",
    "    else:\n",
    "        numeric_Sex = np.append(numeric_Sex, 1)\n",
    "        \n",
    "train['Sex'] = numeric_Sex.astype(np.int64)\n",
    "\n",
    "# test Sex\n",
    "numeric_Sex = np.array([])\n",
    "for i in range(len(test.index)):\n",
    "    if test['Sex'][i] == 'male':\n",
    "        numeric_Sex = np.append(numeric_Sex, 0)\n",
    "    else:\n",
    "        numeric_Sex = np.append(numeric_Sex, 1)\n",
    "        \n",
    "test['Sex'] = numeric_Sex.astype(np.int64)"
   ]
  },
  {
   "cell_type": "markdown",
   "metadata": {},
   "source": [
    "Convert `Embarked` into three binary categories:"
   ]
  },
  {
   "cell_type": "code",
   "execution_count": 5,
   "metadata": {},
   "outputs": [],
   "source": [
    "# train embarked\n",
    "for i in range(len(train.index)):\n",
    "    if train['Embarked'][i] == 'C':\n",
    "        train.loc[i, 'Embarked_C'] = 1\n",
    "        train.loc[i, 'Embarked_Q'] = 0\n",
    "        train.loc[i, 'Embarked_S'] = 0\n",
    "    elif train['Embarked'][i] == 'Q':\n",
    "        train.loc[i, 'Embarked_C'] = 0\n",
    "        train.loc[i, 'Embarked_Q'] = 1\n",
    "        train.loc[i, 'Embarked_S'] = 0\n",
    "    elif train['Embarked'][i] == 'S':\n",
    "        train.loc[i, 'Embarked_C'] = 0\n",
    "        train.loc[i, 'Embarked_Q'] = 0\n",
    "        train.loc[i, 'Embarked_S'] = 1\n",
    "    else:\n",
    "        train.loc[i, 'Embarked_C'] = np.nan\n",
    "        train.loc[i, 'Embarked_Q'] = np.nan\n",
    "        train.loc[i, 'Embarked_S'] = np.nan\n",
    "        \n",
    "train.drop(columns=['Embarked'], inplace=True)\n",
    "\n",
    "# test embarked\n",
    "for i in range(len(test.index)):\n",
    "    if test['Embarked'][i] == 'C':\n",
    "        test.loc[i, 'Embarked_C'] = 1\n",
    "        test.loc[i, 'Embarked_Q'] = 0\n",
    "        test.loc[i, 'Embarked_S'] = 0\n",
    "    elif test['Embarked'][i] == 'Q':\n",
    "        test.loc[i, 'Embarked_C'] = 0\n",
    "        test.loc[i, 'Embarked_Q'] = 1\n",
    "        test.loc[i, 'Embarked_S'] = 0\n",
    "    elif test['Embarked'][i] == 'S':\n",
    "        test.loc[i, 'Embarked_C'] = 0\n",
    "        test.loc[i, 'Embarked_Q'] = 0\n",
    "        test.loc[i, 'Embarked_S'] = 1\n",
    "    else:\n",
    "        test.loc[i, 'Embarked_C'] = np.nan\n",
    "        test.loc[i, 'Embarked_Q'] = np.nan\n",
    "        test.loc[i, 'Embarked_S'] = np.nan\n",
    "        \n",
    "test.drop(columns=['Embarked'], inplace=True)"
   ]
  },
  {
   "cell_type": "markdown",
   "metadata": {},
   "source": [
    "Get a sense of the range and distribution of the variables:"
   ]
  },
  {
   "cell_type": "code",
   "execution_count": 6,
   "metadata": {},
   "outputs": [
    {
     "data": {
      "text/html": [
       "<div>\n",
       "<style scoped>\n",
       "    .dataframe tbody tr th:only-of-type {\n",
       "        vertical-align: middle;\n",
       "    }\n",
       "\n",
       "    .dataframe tbody tr th {\n",
       "        vertical-align: top;\n",
       "    }\n",
       "\n",
       "    .dataframe thead th {\n",
       "        text-align: right;\n",
       "    }\n",
       "</style>\n",
       "<table border=\"1\" class=\"dataframe\">\n",
       "  <thead>\n",
       "    <tr style=\"text-align: right;\">\n",
       "      <th></th>\n",
       "      <th>PassengerId</th>\n",
       "      <th>Survived</th>\n",
       "      <th>Pclass</th>\n",
       "      <th>Sex</th>\n",
       "      <th>Age</th>\n",
       "      <th>SibSp</th>\n",
       "      <th>Parch</th>\n",
       "      <th>Fare</th>\n",
       "      <th>Embarked_C</th>\n",
       "      <th>Embarked_Q</th>\n",
       "      <th>Embarked_S</th>\n",
       "    </tr>\n",
       "  </thead>\n",
       "  <tbody>\n",
       "    <tr>\n",
       "      <th>count</th>\n",
       "      <td>891.000000</td>\n",
       "      <td>891.000000</td>\n",
       "      <td>891.000000</td>\n",
       "      <td>891.000000</td>\n",
       "      <td>714.000000</td>\n",
       "      <td>891.000000</td>\n",
       "      <td>891.000000</td>\n",
       "      <td>891.000000</td>\n",
       "      <td>889.000000</td>\n",
       "      <td>889.000000</td>\n",
       "      <td>889.000000</td>\n",
       "    </tr>\n",
       "    <tr>\n",
       "      <th>mean</th>\n",
       "      <td>446.000000</td>\n",
       "      <td>0.383838</td>\n",
       "      <td>2.308642</td>\n",
       "      <td>0.352413</td>\n",
       "      <td>29.699118</td>\n",
       "      <td>0.523008</td>\n",
       "      <td>0.381594</td>\n",
       "      <td>32.204208</td>\n",
       "      <td>0.188976</td>\n",
       "      <td>0.086614</td>\n",
       "      <td>0.724409</td>\n",
       "    </tr>\n",
       "    <tr>\n",
       "      <th>std</th>\n",
       "      <td>257.353842</td>\n",
       "      <td>0.486592</td>\n",
       "      <td>0.836071</td>\n",
       "      <td>0.477990</td>\n",
       "      <td>14.526497</td>\n",
       "      <td>1.102743</td>\n",
       "      <td>0.806057</td>\n",
       "      <td>49.693429</td>\n",
       "      <td>0.391710</td>\n",
       "      <td>0.281427</td>\n",
       "      <td>0.447063</td>\n",
       "    </tr>\n",
       "    <tr>\n",
       "      <th>min</th>\n",
       "      <td>1.000000</td>\n",
       "      <td>0.000000</td>\n",
       "      <td>1.000000</td>\n",
       "      <td>0.000000</td>\n",
       "      <td>0.420000</td>\n",
       "      <td>0.000000</td>\n",
       "      <td>0.000000</td>\n",
       "      <td>0.000000</td>\n",
       "      <td>0.000000</td>\n",
       "      <td>0.000000</td>\n",
       "      <td>0.000000</td>\n",
       "    </tr>\n",
       "    <tr>\n",
       "      <th>25%</th>\n",
       "      <td>223.500000</td>\n",
       "      <td>0.000000</td>\n",
       "      <td>2.000000</td>\n",
       "      <td>0.000000</td>\n",
       "      <td>20.125000</td>\n",
       "      <td>0.000000</td>\n",
       "      <td>0.000000</td>\n",
       "      <td>7.910400</td>\n",
       "      <td>0.000000</td>\n",
       "      <td>0.000000</td>\n",
       "      <td>0.000000</td>\n",
       "    </tr>\n",
       "    <tr>\n",
       "      <th>50%</th>\n",
       "      <td>446.000000</td>\n",
       "      <td>0.000000</td>\n",
       "      <td>3.000000</td>\n",
       "      <td>0.000000</td>\n",
       "      <td>28.000000</td>\n",
       "      <td>0.000000</td>\n",
       "      <td>0.000000</td>\n",
       "      <td>14.454200</td>\n",
       "      <td>0.000000</td>\n",
       "      <td>0.000000</td>\n",
       "      <td>1.000000</td>\n",
       "    </tr>\n",
       "    <tr>\n",
       "      <th>75%</th>\n",
       "      <td>668.500000</td>\n",
       "      <td>1.000000</td>\n",
       "      <td>3.000000</td>\n",
       "      <td>1.000000</td>\n",
       "      <td>38.000000</td>\n",
       "      <td>1.000000</td>\n",
       "      <td>0.000000</td>\n",
       "      <td>31.000000</td>\n",
       "      <td>0.000000</td>\n",
       "      <td>0.000000</td>\n",
       "      <td>1.000000</td>\n",
       "    </tr>\n",
       "    <tr>\n",
       "      <th>max</th>\n",
       "      <td>891.000000</td>\n",
       "      <td>1.000000</td>\n",
       "      <td>3.000000</td>\n",
       "      <td>1.000000</td>\n",
       "      <td>80.000000</td>\n",
       "      <td>8.000000</td>\n",
       "      <td>6.000000</td>\n",
       "      <td>512.329200</td>\n",
       "      <td>1.000000</td>\n",
       "      <td>1.000000</td>\n",
       "      <td>1.000000</td>\n",
       "    </tr>\n",
       "  </tbody>\n",
       "</table>\n",
       "</div>"
      ],
      "text/plain": [
       "       PassengerId    Survived      Pclass         Sex         Age  \\\n",
       "count   891.000000  891.000000  891.000000  891.000000  714.000000   \n",
       "mean    446.000000    0.383838    2.308642    0.352413   29.699118   \n",
       "std     257.353842    0.486592    0.836071    0.477990   14.526497   \n",
       "min       1.000000    0.000000    1.000000    0.000000    0.420000   \n",
       "25%     223.500000    0.000000    2.000000    0.000000   20.125000   \n",
       "50%     446.000000    0.000000    3.000000    0.000000   28.000000   \n",
       "75%     668.500000    1.000000    3.000000    1.000000   38.000000   \n",
       "max     891.000000    1.000000    3.000000    1.000000   80.000000   \n",
       "\n",
       "            SibSp       Parch        Fare  Embarked_C  Embarked_Q  Embarked_S  \n",
       "count  891.000000  891.000000  891.000000  889.000000  889.000000  889.000000  \n",
       "mean     0.523008    0.381594   32.204208    0.188976    0.086614    0.724409  \n",
       "std      1.102743    0.806057   49.693429    0.391710    0.281427    0.447063  \n",
       "min      0.000000    0.000000    0.000000    0.000000    0.000000    0.000000  \n",
       "25%      0.000000    0.000000    7.910400    0.000000    0.000000    0.000000  \n",
       "50%      0.000000    0.000000   14.454200    0.000000    0.000000    1.000000  \n",
       "75%      1.000000    0.000000   31.000000    0.000000    0.000000    1.000000  \n",
       "max      8.000000    6.000000  512.329200    1.000000    1.000000    1.000000  "
      ]
     },
     "execution_count": 6,
     "metadata": {},
     "output_type": "execute_result"
    }
   ],
   "source": [
    "train.describe()"
   ]
  },
  {
   "cell_type": "code",
   "execution_count": 7,
   "metadata": {},
   "outputs": [
    {
     "data": {
      "image/png": "[encoded data removed]",
      "text/plain": [
       "<Figure size 936x936 with 121 Axes>"
      ]
     },
     "metadata": {
      "needs_background": "light"
     },
     "output_type": "display_data"
    }
   ],
   "source": [
    "fig = pd.plotting.scatter_matrix(train, figsize=(13,13), alpha=0.2)"
   ]
  },
  {
   "cell_type": "markdown",
   "metadata": {},
   "source": [
    "As we can see from the scatterplot matrix and summary tables above, `Age`, `Cabin`, and `Embarked` have missing data. Clearly, the data needs to be normalized in order to prevent overweighting of any single variable, since the range of values is very different depending on the category. Finally, the scatter plots above do not reveal any obvious strong collinearity among predictor variables. However, we do observe slight to moderate collinearity between `Age` and `SibSp` (which makes sense, since typically you travel with your siblings when you are young, but only your partner as you get older), between `Age` and `Parch` (which makes sense, because you can only have a maximum of two parents when you are young, but you can have any number of children when you are old), between `Pclass` and `Fare` (which makes sense, because upper class tickets are more expensive), between `Fare` and `SibSp` (which makes sense, since wealthy families tend to have smaller families), and between `Fare` and `Parch` (which makes sense, again since wealthy families tend to have smaller families)."
   ]
  },
  {
   "cell_type": "markdown",
   "metadata": {},
   "source": [
    "### 1.2: Correlates of Survival"
   ]
  },
  {
   "cell_type": "markdown",
   "metadata": {},
   "source": [
    "Simply implement a t-test between survivors and non-survivors for each variable. This method does not identify collinearity, but does provide a first-order prediction as to what factors correlate with survival."
   ]
  },
  {
   "cell_type": "code",
   "execution_count": 8,
   "metadata": {},
   "outputs": [
    {
     "data": {
      "text/html": [
       "<div>\n",
       "<style scoped>\n",
       "    .dataframe tbody tr th:only-of-type {\n",
       "        vertical-align: middle;\n",
       "    }\n",
       "\n",
       "    .dataframe tbody tr th {\n",
       "        vertical-align: top;\n",
       "    }\n",
       "\n",
       "    .dataframe thead th {\n",
       "        text-align: right;\n",
       "    }\n",
       "</style>\n",
       "<table border=\"1\" class=\"dataframe\">\n",
       "  <thead>\n",
       "    <tr style=\"text-align: right;\">\n",
       "      <th></th>\n",
       "      <th>variable</th>\n",
       "      <th>stat</th>\n",
       "      <th>pval</th>\n",
       "      <th>significant?</th>\n",
       "    </tr>\n",
       "  </thead>\n",
       "  <tbody>\n",
       "    <tr>\n",
       "      <th>0</th>\n",
       "      <td>PassengerId</td>\n",
       "      <td>0.150406</td>\n",
       "      <td>8.804853e-01</td>\n",
       "      <td>False</td>\n",
       "    </tr>\n",
       "    <tr>\n",
       "      <th>1</th>\n",
       "      <td>Pclass</td>\n",
       "      <td>10.336953</td>\n",
       "      <td>2.911155e-23</td>\n",
       "      <td>True</td>\n",
       "    </tr>\n",
       "    <tr>\n",
       "      <th>2</th>\n",
       "      <td>Sex</td>\n",
       "      <td>-18.134563</td>\n",
       "      <td>1.243794e-58</td>\n",
       "      <td>True</td>\n",
       "    </tr>\n",
       "    <tr>\n",
       "      <th>3</th>\n",
       "      <td>Age</td>\n",
       "      <td>2.046030</td>\n",
       "      <td>4.118965e-02</td>\n",
       "      <td>True</td>\n",
       "    </tr>\n",
       "    <tr>\n",
       "      <th>4</th>\n",
       "      <td>SibSp</td>\n",
       "      <td>1.194353</td>\n",
       "      <td>2.326626e-01</td>\n",
       "      <td>False</td>\n",
       "    </tr>\n",
       "    <tr>\n",
       "      <th>5</th>\n",
       "      <td>Parch</td>\n",
       "      <td>-2.478908</td>\n",
       "      <td>1.339484e-02</td>\n",
       "      <td>True</td>\n",
       "    </tr>\n",
       "    <tr>\n",
       "      <th>6</th>\n",
       "      <td>Fare</td>\n",
       "      <td>-6.839099</td>\n",
       "      <td>2.699332e-11</td>\n",
       "      <td>True</td>\n",
       "    </tr>\n",
       "    <tr>\n",
       "      <th>7</th>\n",
       "      <td>Embarked_C</td>\n",
       "      <td>-4.836518</td>\n",
       "      <td>1.691747e-06</td>\n",
       "      <td>True</td>\n",
       "    </tr>\n",
       "    <tr>\n",
       "      <th>8</th>\n",
       "      <td>Embarked_Q</td>\n",
       "      <td>-0.134635</td>\n",
       "      <td>8.929382e-01</td>\n",
       "      <td>False</td>\n",
       "    </tr>\n",
       "    <tr>\n",
       "      <th>9</th>\n",
       "      <td>Embarked_S</td>\n",
       "      <td>4.420475</td>\n",
       "      <td>1.156630e-05</td>\n",
       "      <td>True</td>\n",
       "    </tr>\n",
       "  </tbody>\n",
       "</table>\n",
       "</div>"
      ],
      "text/plain": [
       "      variable       stat          pval  significant?\n",
       "0  PassengerId   0.150406  8.804853e-01         False\n",
       "1       Pclass  10.336953  2.911155e-23          True\n",
       "2          Sex -18.134563  1.243794e-58          True\n",
       "3          Age   2.046030  4.118965e-02          True\n",
       "4        SibSp   1.194353  2.326626e-01         False\n",
       "5        Parch  -2.478908  1.339484e-02          True\n",
       "6         Fare  -6.839099  2.699332e-11          True\n",
       "7   Embarked_C  -4.836518  1.691747e-06          True\n",
       "8   Embarked_Q  -0.134635  8.929382e-01         False\n",
       "9   Embarked_S   4.420475  1.156630e-05          True"
      ]
     },
     "execution_count": 8,
     "metadata": {},
     "output_type": "execute_result"
    }
   ],
   "source": [
    "# variables we want to test\n",
    "ttest_vars = ['PassengerId','Pclass','Sex','Age','SibSp','Parch','Fare','Embarked_C','Embarked_Q','Embarked_S']\n",
    "\n",
    "# separate survived and non-survived\n",
    "train_survived_0 = train[train['Survived']==0].copy()\n",
    "train_survived_1 = train[train['Survived']==1].copy()\n",
    "\n",
    "# storage vectors\n",
    "stat_vec = np.zeros(len(ttest_vars))\n",
    "pval_vec = np.zeros(len(ttest_vars))\n",
    "pass_vec = []\n",
    "\n",
    "# iterate through the variables\n",
    "for i in range(len(ttest_vars)):\n",
    "    \n",
    "    # do the t-test, dropping empty rows\n",
    "    stat, pval = stats.ttest_ind(train_survived_0[ttest_vars[i]].dropna(),\n",
    "                                 train_survived_1[ttest_vars[i]].dropna(),\n",
    "                                 equal_var=False)\n",
    "    \n",
    "    # store\n",
    "    stat_vec[i] = stat\n",
    "    pval_vec[i] = pval\n",
    "    if pval < 0.05:\n",
    "        pass_vec.append(True)\n",
    "    else:\n",
    "        pass_vec.append(False)\n",
    "    \n",
    "# create a table\n",
    "ttest_df = pd.DataFrame({'variable':ttest_vars,'stat':stat_vec,'pval':pval_vec,'significant?':pass_vec})\n",
    "ttest_df"
   ]
  },
  {
   "cell_type": "markdown",
   "metadata": {},
   "source": [
    "As we can see from the results of the t-test above, many of the variables seem to be significantly correlated (at the 95% confidence level) with survival. In particular, `Pclass`, `Sex`, `Age`, `Parch`, `Fare`, `Embarked_C`, and `Embarked_S` all correlate with survival. However, as discussed in part 1.1, we can see that several of these variables are correlated with one another, so it is not clear from this analysis alone which of these variables are actually 'causal' for survival."
   ]
  },
  {
   "cell_type": "markdown",
   "metadata": {},
   "source": [
    "## Part 2: Decision Trees"
   ]
  },
  {
   "cell_type": "markdown",
   "metadata": {},
   "source": [
    "### 2.1: Data Preparation"
   ]
  },
  {
   "cell_type": "markdown",
   "metadata": {},
   "source": [
    "Get rid of columns that are either meaningless or require some feature engineering to be useful:"
   ]
  },
  {
   "cell_type": "code",
   "execution_count": 9,
   "metadata": {},
   "outputs": [],
   "source": [
    "# columns that we actually want\n",
    "keep_vars = ['Pclass','Sex','Age','SibSp','Parch','Fare','Embarked_C','Embarked_Q','Embarked_S','Survived']\n",
    "train = train[keep_vars]"
   ]
  },
  {
   "cell_type": "markdown",
   "metadata": {},
   "source": [
    "A function for normalizing the data:"
   ]
  },
  {
   "cell_type": "code",
   "execution_count": 10,
   "metadata": {},
   "outputs": [],
   "source": [
    "def normalize(array):\n",
    "    \"\"\"\n",
    "    Normalize an array\n",
    "\n",
    "    Parameters\n",
    "    ----------\n",
    "    array : array\n",
    "        Original array.\n",
    "\n",
    "    Returns\n",
    "    -------\n",
    "    norm_array : array\n",
    "        Normalized input array.\n",
    "    \"\"\"\n",
    "    # if the array is just one variable\n",
    "    if array.ndim==1:\n",
    "        norm_array = (array - np.nanmean(array))/np.nanstd(array)\n",
    "        \n",
    "    # if more than one variable\n",
    "    else:\n",
    "        norm_array = (array - np.nanmean(array, axis=0))/np.nanstd(array, axis=0)\n",
    "    \n",
    "    return norm_array"
   ]
  },
  {
   "cell_type": "markdown",
   "metadata": {},
   "source": [
    "Normalize everything except for the target:"
   ]
  },
  {
   "cell_type": "code",
   "execution_count": 11,
   "metadata": {},
   "outputs": [],
   "source": [
    "# normalize\n",
    "train_norm = train.copy()\n",
    "for col in train.columns:\n",
    "    if col!='Survived':\n",
    "        train_norm[col] = normalize(train[col].values)"
   ]
  },
  {
   "cell_type": "markdown",
   "metadata": {},
   "source": [
    "Also change `Survived` into -1 and 1, for input into `DecisionTreeClassifier`:"
   ]
  },
  {
   "cell_type": "code",
   "execution_count": 12,
   "metadata": {},
   "outputs": [],
   "source": [
    "for i in range(len(train_norm.index)):\n",
    "    if train_norm['Survived'][i] == 0:\n",
    "        train_norm.loc[i, 'Survived'] = -1"
   ]
  },
  {
   "cell_type": "markdown",
   "metadata": {},
   "source": [
    "Split into training and validation:"
   ]
  },
  {
   "cell_type": "code",
   "execution_count": 13,
   "metadata": {},
   "outputs": [],
   "source": [
    "# the features for X\n",
    "feature_names = ['Pclass','Sex','Age','SibSp','Parch','Fare','Embarked_C','Embarked_Q','Embarked_S']\n",
    "\n",
    "# get X and Y\n",
    "X = train_norm[feature_names].values\n",
    "Y = train_norm['Survived'].values\n",
    "\n",
    "# training and testing\n",
    "X_train, X_valid, Y_train, Y_valid = train_test_split(X, Y, test_size=0.33, random_state=np.random.seed(22))"
   ]
  },
  {
   "cell_type": "markdown",
   "metadata": {},
   "source": [
    "For the training data, try a variety of methods for dealing with NaN data:\n",
    "\n",
    "* version 1: simply drop rows with NaN\n",
    "* version 2: impute the mean of all the training data for `Age`, and the mode of all the training data for `Embarked`\n",
    "* version 3: impute the mean of all rows with the same `SibSp` as the row with the missing data for `Age` (since from Part 1.2 they seem to be well correlated), and the mode of all the training data for `Embarked`"
   ]
  },
  {
   "cell_type": "code",
   "execution_count": null,
   "metadata": {},
   "outputs": [],
   "source": [
    "# get column numbers for features that need imputing\n",
    "Age_col_ind = feature_names.index('Age')\n",
    "SibSp_col_ind = feature_names.index('SibSp')\n",
    "Embarked_C_col_ind = feature_names.index('Embarked_C')\n",
    "Embarked_Q_col_ind = feature_names.index('Embarked_Q')\n",
    "Embarked_S_col_ind = feature_names.index('Embarked_S')\n",
    "\n",
    "# create a mask for rows with NaN\n",
    "train_NaN_mask = np.isnan(X_train).any(axis=1)\n",
    "train_NaN_rows = np.where(train_NaN_mask)[0]\n",
    "train_NaN_Age_rows = np.where(np.isnan(X_train[:,Age_col_ind]))[0]\n",
    "train_NaN_Embarked_rows = np.where(np.isnan(X_train[:,Embarked_C_col_ind]))[0]\n",
    "\n",
    "# identify which port had the most people\n",
    "port_list = ['Embarked_C','Embarked_Q','Embarked_S']\n",
    "Embarked_C_sum = np.nanmean(X_train[:,Embarked_C_col_ind])\n",
    "Embarked_Q_sum = np.nanmean(X_train[:,Embarked_Q_col_ind])\n",
    "Embarked_S_sum = np.nanmean(X_train[:,Embarked_S_col_ind])\n",
    "Embarked_most = np.argmax(np.array([Embarked_C_sum, Embarked_Q_sum, Embarked_S_sum]))\n",
    "Embarked_most_col_ind = feature_names.index(port_list[Embarked_most])\n",
    "\n",
    "# version 1: simply drop rows with NaN data\n",
    "X_train_1 = X_train[~train_NaN_mask]\n",
    "Y_train_1 = Y_train[~train_NaN_mask]\n",
    "\n",
    "# version 2: impute the mean for the age, and the mode for embarked\n",
    "X_train_2 = X_train.copy()\n",
    "Y_train_2 = Y_train.copy()\n",
    "X_train_2[train_NaN_Age_rows,Age_col_ind] = np.nanmean(X_train[:,Age_col_ind])\n",
    "X_train_2[train_NaN_Embarked_rows,Embarked_C_col_ind] = np.nanmin(X_train[:,Embarked_C_col_ind])\n",
    "X_train_2[train_NaN_Embarked_rows,Embarked_Q_col_ind] = np.nanmin(X_train[:,Embarked_Q_col_ind])\n",
    "X_train_2[train_NaN_Embarked_rows,Embarked_S_col_ind] = np.nanmin(X_train[:,Embarked_S_col_ind])\n",
    "X_train_2[train_NaN_Embarked_rows,Embarked_most_col_ind] = np.nanmax(X_train[:,Embarked_most_col_ind])\n",
    "\n",
    "# version 3: impute age better (see above), and the mode for embarked\n",
    "X_train_3 = X_train.copy()\n",
    "Y_train_3 = Y_train.copy()\n",
    "for i in train_NaN_Age_rows:\n",
    "    X_train_3[i,Age_col_ind] = np.nanmean(X_train[X_train[SibSp_col_ind]==X_train[i,SibSp_col_ind]][:,Age_col_ind])\n",
    "X_train_3[train_NaN_Embarked_rows,Embarked_C_col_ind] = np.nanmin(X_train[:,Embarked_C_col_ind])\n",
    "X_train_3[train_NaN_Embarked_rows,Embarked_Q_col_ind] = np.nanmin(X_train[:,Embarked_Q_col_ind])\n",
    "X_train_3[train_NaN_Embarked_rows,Embarked_S_col_ind] = np.nanmin(X_train[:,Embarked_S_col_ind])\n",
    "X_train_3[train_NaN_Embarked_rows,Embarked_most_col_ind] = np.nanmax(X_train[:,Embarked_most_col_ind])"
   ]
  },
  {
   "cell_type": "markdown",
   "metadata": {},
   "source": [
    "For the testing data..."
   ]
  },
  {
   "cell_type": "code",
   "execution_count": null,
   "metadata": {},
   "outputs": [],
   "source": []
  },
  {
   "cell_type": "code",
   "execution_count": null,
   "metadata": {},
   "outputs": [],
   "source": []
  },
  {
   "cell_type": "code",
   "execution_count": null,
   "metadata": {},
   "outputs": [],
   "source": []
  },
  {
   "cell_type": "code",
   "execution_count": null,
   "metadata": {},
   "outputs": [],
   "source": []
  },
  {
   "cell_type": "code",
   "execution_count": null,
   "metadata": {},
   "outputs": [],
   "source": []
  },
  {
   "cell_type": "code",
   "execution_count": null,
   "metadata": {},
   "outputs": [],
   "source": []
  },
  {
   "cell_type": "markdown",
   "metadata": {},
   "source": [
    "A function for calculating accuracy:"
   ]
  },
  {
   "cell_type": "code",
   "execution_count": null,
   "metadata": {},
   "outputs": [],
   "source": [
    "def compute_accuracy(predicted, observed):\n",
    "    \"\"\"\n",
    "    Compute accuracy.\n",
    "\n",
    "    Parameters\n",
    "    ----------\n",
    "    predicted : array\n",
    "        Predicted values.\n",
    "        \n",
    "    observed : array\n",
    "        Observed values.\n",
    "\n",
    "    Returns\n",
    "    -------\n",
    "    accuracy : float\n",
    "        The accuracy.\n",
    "    \"\"\"\n",
    "    TP = sum((predicted==1) & (observed==1))\n",
    "    TN = sum((predicted==-1) & (observed==-1))\n",
    "    FP = sum((predicted==1) & (observed==-1))\n",
    "    FN = sum((predicted==-1) & (observed==1))\n",
    "    \n",
    "    accuracy = (TP + TN) / (TP + TN + FP + FN)\n",
    "    return accuracy"
   ]
  },
  {
   "cell_type": "markdown",
   "metadata": {},
   "source": [
    "### 2.1 Decision Tree"
   ]
  },
  {
   "cell_type": "markdown",
   "metadata": {},
   "source": [
    "The decision tree:"
   ]
  },
  {
   "cell_type": "code",
   "execution_count": null,
   "metadata": {},
   "outputs": [],
   "source": [
    "# fit the tree using default parameters\n",
    "clf = tree.DecisionTreeClassifier()\n",
    "clf = clf.fit(X_train, Y_train)\n",
    "\n",
    "# predict on the held-out data\n",
    "Y_test_predicted = clf.predict(X_test)\n",
    "\n",
    "# accuracy\n",
    "accuracy = compute_accuracy(Y_test_predicted, Y_test)\n",
    "print('accuracy on validation data = {:.4f}'.format(accuracy))"
   ]
  },
  {
   "cell_type": "markdown",
   "metadata": {},
   "source": [
    "Now plot that tree (only showing to a depth of 3):"
   ]
  },
  {
   "cell_type": "code",
   "execution_count": null,
   "metadata": {},
   "outputs": [],
   "source": [
    "dot_data = tree.export_graphviz(clf, out_file=None, max_depth=3,\n",
    "                                feature_names=feature_names,class_names='Survived',\n",
    "                                filled=True, rounded=True, special_characters=True)\n",
    "graph = graphviz.Source(dot_data)\n",
    "graph"
   ]
  },
  {
   "cell_type": "markdown",
   "metadata": {},
   "source": [
    "Gini is a measure of how often a randomly chosen element from the set would be incorrectly labeled if it was randomly labeled according to the distribution of labels in the subset. Therefore, low gini values indicate better performance."
   ]
  },
  {
   "cell_type": "markdown",
   "metadata": {},
   "source": [
    "### 2.2 Tree Tuning\n",
    "\n",
    "Use all of the data (minus the validation data) to re-fit a single decision tree with max_depth = 4:"
   ]
  },
  {
   "cell_type": "markdown",
   "metadata": {},
   "source": [
    "Fit the tree:"
   ]
  },
  {
   "cell_type": "code",
   "execution_count": null,
   "metadata": {},
   "outputs": [],
   "source": [
    "# fit the tree with max_depth=4\n",
    "clf = tree.DecisionTreeClassifier(max_depth=4)\n",
    "clf = clf.fit(X_train, Y_train)\n",
    "\n",
    "# predict on the training and held-out data\n",
    "Y_train_predicted = clf.predict(X_train)\n",
    "Y_test_predicted = clf.predict(X_test)\n",
    "\n",
    "# accuracy\n",
    "train_accuracy = compute_accuracy(Y_train_predicted, Y_train)\n",
    "test_accuracy = compute_accuracy(Y_test_predicted, Y_test)\n",
    "print('accuracy on training data   = {:.4f}'.format(train_accuracy))\n",
    "print('accuracy on validation data = {:.4f}'.format(test_accuracy))"
   ]
  },
  {
   "cell_type": "markdown",
   "metadata": {},
   "source": [
    "Plot:"
   ]
  },
  {
   "cell_type": "code",
   "execution_count": null,
   "metadata": {},
   "outputs": [],
   "source": [
    "dot_data = tree.export_graphviz(clf, out_file=None,\n",
    "                                feature_names=feature_names,class_names='Survived',\n",
    "                                filled=True, rounded=True, special_characters=True)\n",
    "graph = graphviz.Source(dot_data)\n",
    "graph"
   ]
  },
  {
   "cell_type": "markdown",
   "metadata": {},
   "source": [
    "Feature importances:"
   ]
  },
  {
   "cell_type": "code",
   "execution_count": null,
   "metadata": {},
   "outputs": [],
   "source": [
    "fig, ax = plt.subplots()\n",
    "\n",
    "ax.bar(np.arange(len(clf.feature_importances_)), clf.feature_importances_)\n",
    "ax.set_xticks(np.arange(len(clf.feature_importances_)))\n",
    "ax.set_xticklabels(feature_names, rotation=45, horizontalalignment='right')\n",
    "\n",
    "ax.set_xlabel('feature')\n",
    "ax.set_ylabel('importance')\n",
    "\n",
    "plt.show(fig)"
   ]
  },
  {
   "cell_type": "markdown",
   "metadata": {},
   "source": [
    "The tree with a max depth of 4 performs better on the held-out data than the tree without a max depth (in part 2.1). This is a clear instance of where a deep tree is prone to overfitting the training data, and thus ends up performing worse on the held-out data. Furthermore, we see that in the tree with a max depth of 4, `Sex` is by far the most important factor for determining survival, followed by `Pclass`. So a preliminary conclusion here would be that your gender and wealth were the most important for determining survival. Interestingly, age does not seem to be particularly important."
   ]
  },
  {
   "cell_type": "markdown",
   "metadata": {},
   "source": [
    "### 2.3 Sensitivity Analysis\n",
    "\n",
    "The built-in algorithm we are using has several parameters which we can tune. Using cross-validation, we can show how the choice of these parameters affects performance."
   ]
  },
  {
   "cell_type": "markdown",
   "metadata": {},
   "source": [
    "Set up the cross-validation:"
   ]
  },
  {
   "cell_type": "code",
   "execution_count": null,
   "metadata": {},
   "outputs": [],
   "source": [
    "# set up the 10-fold cross validation\n",
    "kf = KFold(n_splits=10, shuffle=True, random_state=np.random.seed(22))\n",
    "\n",
    "# get the training and testing indexes\n",
    "kf_train_inds = []\n",
    "kf_test_inds = []\n",
    "for kf_train_ind, kf_test_ind in kf.split(X_train):\n",
    "    kf_train_inds.append(kf_train_ind)\n",
    "    kf_test_inds.append(kf_test_ind)"
   ]
  },
  {
   "cell_type": "markdown",
   "metadata": {},
   "source": [
    "From part 2.1, the max depth necessary for node purity is around 15, so we test max depths of 1-15 here:"
   ]
  },
  {
   "cell_type": "code",
   "execution_count": null,
   "metadata": {},
   "outputs": [],
   "source": [
    "# max depths to test\n",
    "max_depths = np.arange(1,16)\n",
    "\n",
    "# storage vectors\n",
    "train_accuracies = np.zeros(len(max_depths))\n",
    "test_accuracies = np.zeros(len(max_depths))\n",
    "\n",
    "# iterate through max depths\n",
    "for i in range(len(max_depths)):\n",
    "    \n",
    "    # storage vectors\n",
    "    kf_train_accuracies = np.zeros(10)\n",
    "    kf_test_accuracies = np.zeros(10)\n",
    "    \n",
    "    # iterate through folds\n",
    "    for j in range(10):\n",
    "        \n",
    "        # fit the tree\n",
    "        clf = tree.DecisionTreeClassifier(max_depth=max_depths[i])\n",
    "        clf = clf.fit(X_train[kf_train_inds[j]], Y_train[kf_train_inds[j]])\n",
    "        \n",
    "        # predicted values\n",
    "        Y_kf_train_predicted = clf.predict(X_train[kf_train_inds[j]])\n",
    "        Y_kf_test_predicted = clf.predict(X_train[kf_test_inds[j]])\n",
    "\n",
    "        # accuracies\n",
    "        kf_train_accuracies[j] = compute_accuracy(Y_kf_train_predicted, Y_train[kf_train_inds[j]])\n",
    "        kf_test_accuracies[j] = compute_accuracy(Y_kf_test_predicted, Y_train[kf_test_inds[j]])\n",
    "        \n",
    "    # store the average\n",
    "    train_accuracies[i] = np.mean(kf_train_accuracies)\n",
    "    test_accuracies[i] = np.mean(kf_test_accuracies)\n",
    "    \n",
    "# plot\n",
    "fig, ax = plt.subplots()\n",
    "\n",
    "ax.plot(max_depths, train_accuracies, '+-', c='C0', label='training')\n",
    "ax.plot(max_depths, test_accuracies, '+-', c='C1', label='testing')\n",
    "\n",
    "ax.legend()\n",
    "ax.set_xlabel('max depth')\n",
    "ax.set_ylabel('accuracy')\n",
    "\n",
    "plt.show(fig)"
   ]
  },
  {
   "cell_type": "markdown",
   "metadata": {},
   "source": [
    "As we can see, training accuracy monotonically increases as we increase the max depth of the tree. However, testing accuracy has an approximately convex shape (with some minor deviations) - it increases until a max depth of around 2 or 3, before decreasing. This suggests that a tree with a depth of greater than 2 or 3 overfits the training data.\n",
    "\n",
    "Next we also test the minimum samples per leaf:"
   ]
  },
  {
   "cell_type": "code",
   "execution_count": null,
   "metadata": {},
   "outputs": [],
   "source": [
    "# min_samples_leaf to test\n",
    "min_samples_leafs = np.arange(2,51,2)\n",
    "\n",
    "# storage vectors\n",
    "train_accuracies = np.zeros((len(max_depths),len(min_samples_leafs)))\n",
    "test_accuracies = np.zeros((len(max_depths),len(min_samples_leafs)))\n",
    "\n",
    "# iterate through max depths\n",
    "for i in tqdm_notebook(range(len(max_depths))):\n",
    "    \n",
    "    # iterate through min_samples_leafs\n",
    "    for j in range(len(min_samples_leafs)):\n",
    "    \n",
    "        # storage vectors\n",
    "        kf_train_accuracies = np.zeros(10)\n",
    "        kf_test_accuracies = np.zeros(10)\n",
    "    \n",
    "        # iterate through folds\n",
    "        for k in range(10):\n",
    "\n",
    "            # fit the tree\n",
    "            clf = tree.DecisionTreeClassifier(max_depth=max_depths[i], min_samples_leaf=min_samples_leafs[j])\n",
    "            clf = clf.fit(X_train[kf_train_inds[k]], Y_train[kf_train_inds[k]])\n",
    "\n",
    "            # predicted values\n",
    "            Y_kf_train_predicted = clf.predict(X_train[kf_train_inds[k]])\n",
    "            Y_kf_test_predicted = clf.predict(X_train[kf_test_inds[k]])\n",
    "\n",
    "            # accuracies\n",
    "            kf_train_accuracies[k] = compute_accuracy(Y_kf_train_predicted, Y_train[kf_train_inds[k]])\n",
    "            kf_test_accuracies[k] = compute_accuracy(Y_kf_test_predicted, Y_train[kf_test_inds[k]])\n",
    "        \n",
    "        # store the average\n",
    "        train_accuracies[i,j] = np.mean(kf_train_accuracies)\n",
    "        test_accuracies[i,j] = np.mean(kf_test_accuracies)"
   ]
  },
  {
   "cell_type": "code",
   "execution_count": null,
   "metadata": {},
   "outputs": [],
   "source": [
    "# print some useful numbers\n",
    "max_ind = np.unravel_index(np.argmax(test_accuracies, axis=None), test_accuracies.shape)\n",
    "print('best test accuracy = {:.4f}'.format(test_accuracies[max_ind]))\n",
    "print('  with a max_depth of       = {}'.format(max_depths[max_ind[0]]))\n",
    "print('  and a min_samples_leaf of = {}'.format(min_samples_leafs[max_ind[1]]))\n",
    "\n",
    "# plot\n",
    "fig, ax = plt.subplots(nrows=2, ncols=1, figsize=(6,8), sharex=True)\n",
    "\n",
    "levels = np.linspace(np.min(train_accuracies),np.max(train_accuracies), 20)\n",
    "cntrf = ax[0].contourf(min_samples_leafs, max_depths, train_accuracies, cmap='viridis', levels=levels)\n",
    "cbar = fig.colorbar(cntrf, ax=ax[0])\n",
    "cbar.ax.set_ylabel('TRAINING accuracy', rotation=270, labelpad=20)\n",
    "ax[0].set_ylabel('max depth')\n",
    "\n",
    "levels = np.linspace(np.min(test_accuracies),np.max(test_accuracies), 20)\n",
    "cntrf = ax[1].contourf(min_samples_leafs, max_depths, test_accuracies, cmap='viridis', levels=levels)\n",
    "cbar = fig.colorbar(cntrf, ax=ax[1])\n",
    "cbar.ax.set_ylabel('TESTING accuracy', rotation=270, labelpad=20)\n",
    "ax[1].set_ylabel('max depth')\n",
    "ax[1].set_xlabel('min samples per leaf')\n",
    "\n",
    "fig.tight_layout()\n",
    "plt.show(fig)"
   ]
  },
  {
   "cell_type": "markdown",
   "metadata": {},
   "source": [
    "As we can see, for the training data, decreasing the minimum samples per leaf and increasing the max depth lead to a higher accuracy. However, for the testing data, there is a point where the tree starts to ovefit the training data. Therefore, we find that the tree that performs the best on the testing data has a max depth of 6 and a minimum samples per leaf of 6. However, the accuracy surface for the testing data is not a perfect convex 3D parabola - instead, there is substantial \"noise\" which is likely a result of small changes in the tuning parameters leading to a significantly different tree (i.e. splits change significantly due to small changes in the tuning parameters). Nevertheless, a max depth of around 6 and a minimum samples per leaf of around 6 appears to be generally robust.\n",
    "\n",
    "Plot the best performing tree, and see how it does on the validation data:"
   ]
  },
  {
   "cell_type": "code",
   "execution_count": null,
   "metadata": {},
   "outputs": [],
   "source": [
    "# fit the tree\n",
    "clf = tree.DecisionTreeClassifier(max_depth=6, min_samples_leaf=6)\n",
    "clf = clf.fit(X_train, Y_train)\n",
    "\n",
    "# predict on the held-out data\n",
    "Y_test_predicted = clf.predict(X_test)\n",
    "\n",
    "# accuracy\n",
    "tree_accuracy = compute_accuracy(Y_test_predicted, Y_test)\n",
    "print('accuracy on validation data = {:.4f}'.format(tree_accuracy))"
   ]
  },
  {
   "cell_type": "code",
   "execution_count": null,
   "metadata": {},
   "outputs": [],
   "source": [
    "dot_data = tree.export_graphviz(clf, out_file=None,\n",
    "                                feature_names=feature_names,class_names='Survived',\n",
    "                                filled=True, rounded=True, special_characters=True)\n",
    "graph = graphviz.Source(dot_data)\n",
    "graph"
   ]
  },
  {
   "cell_type": "markdown",
   "metadata": {},
   "source": [
    "This tree has done the best on the held-out test data so far."
   ]
  },
  {
   "cell_type": "markdown",
   "metadata": {},
   "source": [
    "## Part 3: Many Trees\n",
    "\n",
    "### 3.1: Random Forest"
   ]
  },
  {
   "cell_type": "markdown",
   "metadata": {},
   "source": [
    "Now do a random forest, tuning for the number of trees in the forest. For max depth and the minimimum number of samples per leaf, let's use the optimal values found in part 2.3."
   ]
  },
  {
   "cell_type": "code",
   "execution_count": null,
   "metadata": {},
   "outputs": [],
   "source": [
    "# n_estimators to test\n",
    "n_trees = np.arange(2,101)\n",
    "\n",
    "# storage vectors\n",
    "train_accuracies = np.zeros(len(n_trees))\n",
    "test_accuracies = np.zeros(len(n_trees))\n",
    "\n",
    "# iterate through max depths\n",
    "for i in tqdm_notebook(range(len(n_trees))):\n",
    "    \n",
    "    # storage vectors\n",
    "    kf_train_accuracies = np.zeros(10)\n",
    "    kf_test_accuracies = np.zeros(10)\n",
    "    \n",
    "    # iterate through folds\n",
    "    for j in range(10):\n",
    "        \n",
    "        # fit the tree\n",
    "        clf = RandomForestClassifier(n_estimators=n_trees[i], max_depth=6, min_samples_leaf=6,\n",
    "                                     random_state=np.random.seed(22))\n",
    "        clf = clf.fit(X_train[kf_train_inds[j]], Y_train[kf_train_inds[j]])\n",
    "        \n",
    "        # predicted values\n",
    "        Y_kf_train_predicted = clf.predict(X_train[kf_train_inds[j]])\n",
    "        Y_kf_test_predicted = clf.predict(X_train[kf_test_inds[j]])\n",
    "\n",
    "        # accuracies\n",
    "        kf_train_accuracies[j] = compute_accuracy(Y_kf_train_predicted, Y_train[kf_train_inds[j]])\n",
    "        kf_test_accuracies[j] = compute_accuracy(Y_kf_test_predicted, Y_train[kf_test_inds[j]])\n",
    "        \n",
    "    # store the average\n",
    "    train_accuracies[i] = np.mean(kf_train_accuracies)\n",
    "    test_accuracies[i] = np.mean(kf_test_accuracies)"
   ]
  },
  {
   "cell_type": "code",
   "execution_count": null,
   "metadata": {},
   "outputs": [],
   "source": [
    "# print useful numbers\n",
    "max_ind = np.argmax(test_accuracies)\n",
    "print('n trees that performed the best on the testing fold = {}'.format(n_trees[max_ind]))\n",
    "print('accuracy of this tree = {:.4f}'.format(test_accuracies[max_ind]))\n",
    "\n",
    "# plot\n",
    "fig, ax = plt.subplots()\n",
    "\n",
    "ax.plot(n_trees, train_accuracies, '+-', c='C0', label='training')\n",
    "ax.plot(n_trees, test_accuracies, '+-', c='C1', label='testing')\n",
    "\n",
    "ax.legend()\n",
    "ax.set_xlabel('n trees')\n",
    "ax.set_ylabel('accuracy')\n",
    "\n",
    "plt.show(fig)"
   ]
  },
  {
   "cell_type": "markdown",
   "metadata": {},
   "source": [
    "Now use the best forest to test on the held-out data:"
   ]
  },
  {
   "cell_type": "code",
   "execution_count": null,
   "metadata": {},
   "outputs": [],
   "source": [
    "# fit the tree\n",
    "clf = RandomForestClassifier(n_estimators=28, max_depth=6, min_samples_leaf=6,\n",
    "                             random_state=np.random.seed(22))\n",
    "clf = clf.fit(X_train, Y_train)\n",
    "\n",
    "# predict on the held-out data\n",
    "Y_test_predicted = clf.predict(X_test)\n",
    "\n",
    "# accuracy\n",
    "forest_accuracy = compute_accuracy(Y_test_predicted, Y_test)\n",
    "print('accuracy on held-out data = {:.4f}'.format(forest_accuracy))"
   ]
  },
  {
   "cell_type": "markdown",
   "metadata": {},
   "source": [
    "The best performing forest does better on the held-out data than on the cross-validated testing folds, which illustrates that the forest generalizes well.\n",
    "\n",
    "The best performing forest does better than the best performing decision tree and the logistic regression."
   ]
  },
  {
   "cell_type": "markdown",
   "metadata": {},
   "source": [
    "### 3.2: Gradient Boosting\n",
    "\n",
    "Now try gradient boosting, tuning the learning rate:"
   ]
  },
  {
   "cell_type": "code",
   "execution_count": null,
   "metadata": {},
   "outputs": [],
   "source": [
    "# learning rates to test\n",
    "learning_rates = np.linspace(0.01,0.5,25)\n",
    "\n",
    "# storage vectors\n",
    "train_accuracies = np.zeros(len(learning_rates))\n",
    "test_accuracies = np.zeros(len(learning_rates))\n",
    "\n",
    "# iterate through max depths\n",
    "for i in tqdm_notebook(range(len(learning_rates))):\n",
    "    \n",
    "    # storage vectors\n",
    "    kf_train_accuracies = np.zeros(10)\n",
    "    kf_test_accuracies = np.zeros(10)\n",
    "    \n",
    "    # iterate through folds\n",
    "    for j in range(10):\n",
    "        \n",
    "        # fit the tree\n",
    "        clf = GradientBoostingClassifier(learning_rate=learning_rates[i], max_depth=6, min_samples_leaf=6,\n",
    "                                         random_state=np.random.seed(22))\n",
    "        clf = clf.fit(X_train[kf_train_inds[j]], Y_train[kf_train_inds[j]])\n",
    "        \n",
    "        # predicted values\n",
    "        Y_kf_train_predicted = clf.predict(X_train[kf_train_inds[j]])\n",
    "        Y_kf_test_predicted = clf.predict(X_train[kf_test_inds[j]])\n",
    "\n",
    "        # accuracies\n",
    "        kf_train_accuracies[j] = compute_accuracy(Y_kf_train_predicted, Y_train[kf_train_inds[j]])\n",
    "        kf_test_accuracies[j] = compute_accuracy(Y_kf_test_predicted, Y_train[kf_test_inds[j]])\n",
    "        \n",
    "    # store the average\n",
    "    train_accuracies[i] = np.mean(kf_train_accuracies)\n",
    "    test_accuracies[i] = np.mean(kf_test_accuracies)"
   ]
  },
  {
   "cell_type": "code",
   "execution_count": null,
   "metadata": {},
   "outputs": [],
   "source": [
    "# print useful numbers\n",
    "max_ind = np.argmax(test_accuracies)\n",
    "print('learning rate that performed the best on the testing fold = {}'.format(learning_rates[max_ind]))\n",
    "print('accuracy of this model = {:.4f}'.format(test_accuracies[max_ind]))\n",
    "\n",
    "# plot\n",
    "fig, ax = plt.subplots()\n",
    "\n",
    "ax.plot(learning_rates, train_accuracies, '+-', c='C0', label='training')\n",
    "ax.plot(learning_rates, test_accuracies, '+-', c='C1', label='testing')\n",
    "\n",
    "ax.legend()\n",
    "ax.set_xlabel('learning rate')\n",
    "ax.set_ylabel('accuracy')\n",
    "\n",
    "plt.show(fig)"
   ]
  },
  {
   "cell_type": "code",
   "execution_count": null,
   "metadata": {},
   "outputs": [],
   "source": [
    "# fit the tree\n",
    "clf = GradientBoostingClassifier(learning_rate=0.01, max_depth=6, min_samples_leaf=6,\n",
    "                                 random_state=np.random.seed(22))\n",
    "clf = clf.fit(X_train, Y_train)\n",
    "\n",
    "# predict on the held-out data\n",
    "Y_test_predicted = clf.predict(X_test)\n",
    "\n",
    "# accuracy\n",
    "boosting_accuracy = compute_accuracy(Y_test_predicted, Y_test)\n",
    "print('accuracy on held-out data = {:.4f}'.format(boosting_accuracy))"
   ]
  },
  {
   "cell_type": "code",
   "execution_count": null,
   "metadata": {},
   "outputs": [],
   "source": [
    "fig, ax = plt.subplots()\n",
    "\n",
    "ax.bar(np.arange(len(clf.feature_importances_)), clf.feature_importances_)\n",
    "ax.set_xticks(np.arange(len(clf.feature_importances_)))\n",
    "ax.set_xticklabels(feature_names, rotation=45, horizontalalignment='right')\n",
    "\n",
    "ax.set_xlabel('feature')\n",
    "ax.set_ylabel('importance')\n",
    "\n",
    "plt.show(fig)"
   ]
  },
  {
   "cell_type": "markdown",
   "metadata": {},
   "source": [
    "The best perfoming GBM does exactly the same on the held-out data when compared to the best performing random forest."
   ]
  },
  {
   "cell_type": "markdown",
   "metadata": {},
   "source": [
    "## Summary 1\n",
    "\n",
    "So far, we have simply dropped rows that are missing data for the features listed above. In this case, the models have performed as below on the validation data:"
   ]
  },
  {
   "cell_type": "code",
   "execution_count": null,
   "metadata": {},
   "outputs": [],
   "source": [
    "fig, ax = plt.subplots()\n",
    "\n",
    "ax.bar(np.arange(3), [tree_accuracy, forest_accuracy, boosting_accuracy])\n",
    "\n",
    "ax.text(0, tree_accuracy+0.01, '{:.4f}'.format(tree_accuracy),\n",
    "        horizontalalignment='center', verticalalignment='center')\n",
    "ax.text(1, forest_accuracy+0.01, '{:.4f}'.format(forest_accuracy),\n",
    "        horizontalalignment='center', verticalalignment='center')\n",
    "ax.text(2, boosting_accuracy+0.01, '{:.4f}'.format(boosting_accuracy),\n",
    "        horizontalalignment='center', verticalalignment='center')\n",
    "\n",
    "ax.set_ylim(0.8, 0.9)\n",
    "ax.set_ylabel('accuracy')\n",
    "ax.set_xticks(np.arange(3))\n",
    "ax.set_xticklabels(['decision tree', 'random forest', 'gradient boosting'], rotation=45)\n",
    "\n",
    "plt.show(fig)"
   ]
  },
  {
   "cell_type": "markdown",
   "metadata": {},
   "source": [
    "### Part 4: Minimal Features\n",
    "\n",
    "The problem we have right now is that some of the individuals are missing data, specifically in the "
   ]
  },
  {
   "cell_type": "code",
   "execution_count": null,
   "metadata": {},
   "outputs": [],
   "source": []
  },
  {
   "cell_type": "code",
   "execution_count": null,
   "metadata": {},
   "outputs": [],
   "source": []
  },
  {
   "cell_type": "markdown",
   "metadata": {},
   "source": [
    "Now train the random forest on all of the training data, including the validation data:"
   ]
  },
  {
   "cell_type": "code",
   "execution_count": null,
   "metadata": {},
   "outputs": [],
   "source": [
    "# fit the tree\n",
    "clf = RandomForestClassifier(n_estimators=28, max_depth=6, min_samples_leaf=6,\n",
    "                             random_state=np.random.seed(22))\n",
    "clf = clf.fit(X, Y)"
   ]
  },
  {
   "cell_type": "markdown",
   "metadata": {},
   "source": [
    "Clean up the test data, by normalizing, dropping rows with NaN, and removing features we aren't dealing with for now:"
   ]
  },
  {
   "cell_type": "code",
   "execution_count": null,
   "metadata": {},
   "outputs": [],
   "source": []
  },
  {
   "cell_type": "code",
   "execution_count": null,
   "metadata": {},
   "outputs": [],
   "source": []
  },
  {
   "cell_type": "code",
   "execution_count": null,
   "metadata": {},
   "outputs": [],
   "source": []
  },
  {
   "cell_type": "code",
   "execution_count": null,
   "metadata": {},
   "outputs": [],
   "source": [
    "# predict on the held-out data\n",
    "Y_test_predicted = clf.predict(X_test)\n",
    "\n",
    "# accuracy\n",
    "forest_accuracy = compute_accuracy(Y_test_predicted, Y_test)\n",
    "print('accuracy on held-out data = {:.4f}'.format(forest_accuracy))"
   ]
  },
  {
   "cell_type": "code",
   "execution_count": null,
   "metadata": {},
   "outputs": [],
   "source": [
    "# normalize\n",
    "train_norm = train.copy()\n",
    "for col in train.columns:\n",
    "    if col!='Survived':\n",
    "        train_norm[col] = normalize(train[col].values)\n",
    "        \n",
    "# drop NaNs\n",
    "train_norm.dropna(inplace=True)\n",
    "train_norm.reset_index(drop=True, inplace=True)"
   ]
  },
  {
   "cell_type": "code",
   "execution_count": null,
   "metadata": {},
   "outputs": [],
   "source": [
    "# get X and Y\n",
    "feature_names = ['PassengerId','Pclass','Sex','Age','SibSp','Parch','Fare','Embarked_C','Embarked_Q','Embarked_S']\n",
    "X = train_norm[feature_names].values\n",
    "Y = train_norm['Survived'].values"
   ]
  },
  {
   "cell_type": "code",
   "execution_count": null,
   "metadata": {},
   "outputs": [],
   "source": []
  },
  {
   "cell_type": "code",
   "execution_count": null,
   "metadata": {},
   "outputs": [],
   "source": []
  },
  {
   "cell_type": "code",
   "execution_count": null,
   "metadata": {},
   "outputs": [],
   "source": []
  },
  {
   "cell_type": "code",
   "execution_count": null,
   "metadata": {},
   "outputs": [],
   "source": [
    "X = train_norm[feature_names].values\n",
    "Y = train_norm['Survived'].values"
   ]
  },
  {
   "cell_type": "markdown",
   "metadata": {},
   "source": [
    "## Part 4: Feature Engineering"
   ]
  },
  {
   "cell_type": "markdown",
   "metadata": {},
   "source": [
    "> <font color='red'>Set up the data again:</font>"
   ]
  },
  {
   "cell_type": "code",
   "execution_count": null,
   "metadata": {
    "scrolled": false
   },
   "outputs": [],
   "source": [
    "train = pd.read_csv('train.csv')\n",
    "\n",
    "# Sex\n",
    "numeric_Sex = np.array([])\n",
    "for i in range(len(train.index)):\n",
    "    if train['Sex'][i] == 'male':\n",
    "        numeric_Sex = np.append(numeric_Sex, 0)\n",
    "    else:\n",
    "        numeric_Sex = np.append(numeric_Sex, 1)\n",
    "        \n",
    "train['Sex'] = numeric_Sex.astype(np.int64)\n",
    "\n",
    "# embarked\n",
    "for i in range(len(train.index)):\n",
    "    if train['Embarked'][i] == 'C':\n",
    "        train.loc[i, 'Embarked_C'] = 1\n",
    "        train.loc[i, 'Embarked_Q'] = 0\n",
    "        train.loc[i, 'Embarked_S'] = 0\n",
    "    elif train['Embarked'][i] == 'Q':\n",
    "        train.loc[i, 'Embarked_C'] = 0\n",
    "        train.loc[i, 'Embarked_Q'] = 1\n",
    "        train.loc[i, 'Embarked_S'] = 0\n",
    "    elif train['Embarked'][i] == 'S':\n",
    "        train.loc[i, 'Embarked_C'] = 0\n",
    "        train.loc[i, 'Embarked_Q'] = 0\n",
    "        train.loc[i, 'Embarked_S'] = 1\n",
    "    else:\n",
    "        train.loc[i, 'Embarked_C'] = np.nan\n",
    "        train.loc[i, 'Embarked_Q'] = np.nan\n",
    "        train.loc[i, 'Embarked_S'] = np.nan\n",
    "        \n",
    "# drop the original row\n",
    "train.drop(columns=['Embarked'], inplace=True)"
   ]
  },
  {
   "cell_type": "markdown",
   "metadata": {},
   "source": [
    "> <font color='red'>For feature engineering, I choose to use the `Cabin` column, and extract the floor/compartment that the individual was living in:</font>"
   ]
  },
  {
   "cell_type": "code",
   "execution_count": null,
   "metadata": {},
   "outputs": [],
   "source": [
    "for i in range(len(train.index)):\n",
    "    if pd.isnull(train['Cabin'][i]):\n",
    "        train.loc[i, 'Cabin_A'] = np.nan\n",
    "        train.loc[i, 'Cabin_B'] = np.nan\n",
    "        train.loc[i, 'Cabin_C'] = np.nan\n",
    "        train.loc[i, 'Cabin_D'] = np.nan\n",
    "        train.loc[i, 'Cabin_E'] = np.nan\n",
    "        train.loc[i, 'Cabin_F'] = np.nan\n",
    "    else:\n",
    "        if 'A' in train['Cabin'][i]:\n",
    "            train.loc[i, 'Cabin_A'] = 1\n",
    "            train.loc[i, 'Cabin_B'] = 0\n",
    "            train.loc[i, 'Cabin_C'] = 0\n",
    "            train.loc[i, 'Cabin_D'] = 0\n",
    "            train.loc[i, 'Cabin_E'] = 0\n",
    "            train.loc[i, 'Cabin_F'] = 0\n",
    "        elif 'B' in train['Cabin'][i]:\n",
    "            train.loc[i, 'Cabin_A'] = 0\n",
    "            train.loc[i, 'Cabin_B'] = 1\n",
    "            train.loc[i, 'Cabin_C'] = 0\n",
    "            train.loc[i, 'Cabin_D'] = 0\n",
    "            train.loc[i, 'Cabin_E'] = 0\n",
    "            train.loc[i, 'Cabin_F'] = 0\n",
    "        elif 'C' in train['Cabin'][i]:\n",
    "            train.loc[i, 'Cabin_A'] = 0\n",
    "            train.loc[i, 'Cabin_B'] = 0\n",
    "            train.loc[i, 'Cabin_C'] = 1\n",
    "            train.loc[i, 'Cabin_D'] = 0\n",
    "            train.loc[i, 'Cabin_E'] = 0\n",
    "            train.loc[i, 'Cabin_F'] = 0\n",
    "        elif 'D' in train['Cabin'][i]:\n",
    "            train.loc[i, 'Cabin_A'] = 0\n",
    "            train.loc[i, 'Cabin_B'] = 0\n",
    "            train.loc[i, 'Cabin_C'] = 0\n",
    "            train.loc[i, 'Cabin_D'] = 1\n",
    "            train.loc[i, 'Cabin_E'] = 0\n",
    "            train.loc[i, 'Cabin_F'] = 0\n",
    "        elif 'E' in train['Cabin'][i]:\n",
    "            train.loc[i, 'Cabin_A'] = 0\n",
    "            train.loc[i, 'Cabin_B'] = 0\n",
    "            train.loc[i, 'Cabin_C'] = 0\n",
    "            train.loc[i, 'Cabin_D'] = 0\n",
    "            train.loc[i, 'Cabin_E'] = 1\n",
    "            train.loc[i, 'Cabin_F'] = 0\n",
    "        elif 'F' in train['Cabin'][i]:\n",
    "            train.loc[i, 'Cabin_A'] = 0\n",
    "            train.loc[i, 'Cabin_B'] = 0\n",
    "            train.loc[i, 'Cabin_C'] = 0\n",
    "            train.loc[i, 'Cabin_D'] = 0\n",
    "            train.loc[i, 'Cabin_E'] = 0\n",
    "            train.loc[i, 'Cabin_F'] = 1\n",
    "        else:\n",
    "            train.loc[i, 'Cabin_A'] = np.nan\n",
    "            train.loc[i, 'Cabin_B'] = np.nan\n",
    "            train.loc[i, 'Cabin_C'] = np.nan\n",
    "            train.loc[i, 'Cabin_D'] = np.nan\n",
    "            train.loc[i, 'Cabin_E'] = np.nan\n",
    "            train.loc[i, 'Cabin_F'] = np.nan"
   ]
  },
  {
   "cell_type": "markdown",
   "metadata": {},
   "source": [
    "> <font color='red'>Set up the data for the models with imputed values and feature engineering.</font>"
   ]
  },
  {
   "cell_type": "code",
   "execution_count": null,
   "metadata": {},
   "outputs": [],
   "source": [
    "# columns that we actually want\n",
    "keep_vars = ['PassengerId','Pclass','Sex','Age','SibSp','Parch','Fare','Embarked_C','Embarked_Q','Embarked_S',\n",
    "             'Cabin_A','Cabin_B','Cabin_C','Cabin_D','Cabin_E','Cabin_F','Survived']\n",
    "train = train[keep_vars]\n",
    "\n",
    "# impute for Embarked\n",
    "# the mode is port S - found in part 1\n",
    "for i in range(len(train.index)):\n",
    "    if ~np.isfinite(train['Embarked_S'][i]):\n",
    "        train.loc[i, 'Embarked_C'] = 0\n",
    "        train.loc[i, 'Embarked_Q'] = 0\n",
    "        train.loc[i, 'Embarked_S'] = 1\n",
    "        \n",
    "# impute for Age\n",
    "mean_Age = np.nanmean(train['Age'])\n",
    "for i in range(len(train.index)):\n",
    "    if ~np.isfinite(train['Age'][i]):\n",
    "        train.loc[i, 'Age'] = mean_Age\n",
    "        \n",
    "# impute for Cabin\n",
    "# the mode is cabin C\n",
    "for i in range(len(train.index)):\n",
    "    if ~np.isfinite(train['Cabin_C'][i]):\n",
    "        train.loc[i, 'Cabin_A'] = 0\n",
    "        train.loc[i, 'Cabin_B'] = 0\n",
    "        train.loc[i, 'Cabin_C'] = 1\n",
    "        train.loc[i, 'Cabin_D'] = 0\n",
    "        train.loc[i, 'Cabin_E'] = 0\n",
    "        train.loc[i, 'Cabin_F'] = 0\n",
    "        \n",
    "# normalize\n",
    "for col in train.columns:\n",
    "    if col!='Survived':\n",
    "        train[col] = normalize(train[col].values)\n",
    "        \n",
    "# convert survived into -1 and 1\n",
    "for i in range(len(train.index)):\n",
    "    if train['Survived'][i] == 0:\n",
    "        train.loc[i, 'Survived'] = -1\n",
    "        \n",
    "# get X and Y\n",
    "feature_names = ['PassengerId','Pclass','Sex','Age','SibSp','Parch','Fare','Embarked_C','Embarked_Q','Embarked_S',\n",
    "                 'Cabin_A','Cabin_B','Cabin_C','Cabin_D','Cabin_E','Cabin_F']\n",
    "X = train[feature_names].values\n",
    "Y = train['Survived'].values\n",
    "\n",
    "# training and testing\n",
    "X_train, X_test, Y_train, Y_test = train_test_split(X, Y, test_size=0.33, random_state=np.random.seed(22))\n",
    "\n",
    "# set up the 10-fold cross validation\n",
    "kf = KFold(n_splits=10, shuffle=True, random_state=np.random.seed(22))\n",
    "\n",
    "# get the training and testing indexes\n",
    "kf_train_inds = []\n",
    "kf_test_inds = []\n",
    "for kf_train_ind, kf_test_ind in kf.split(X_train):\n",
    "    kf_train_inds.append(kf_train_ind)\n",
    "    kf_test_inds.append(kf_test_ind)"
   ]
  },
  {
   "cell_type": "markdown",
   "metadata": {},
   "source": [
    "> <font color='red'>Decision tree:</font>"
   ]
  },
  {
   "cell_type": "code",
   "execution_count": null,
   "metadata": {},
   "outputs": [],
   "source": [
    "# storage vectors\n",
    "kf_train_accuracies = np.zeros(10)\n",
    "kf_test_accuracies = np.zeros(10)\n",
    "\n",
    "# iterate through folds\n",
    "for i in range(10):\n",
    "    \n",
    "    # fit the tree\n",
    "    clf = tree.DecisionTreeClassifier(max_depth=3, min_samples_leaf=4)\n",
    "    clf = clf.fit(X_train[kf_train_inds[i]], Y_train[kf_train_inds[i]])\n",
    "    \n",
    "    # predicted values\n",
    "    Y_kf_train_predicted = clf.predict(X_train[kf_train_inds[i]])\n",
    "    Y_kf_test_predicted = clf.predict(X_train[kf_test_inds[i]])\n",
    "    \n",
    "    # accuracies\n",
    "    kf_train_accuracies[i] = compute_accuracy(Y_kf_train_predicted, Y_train[kf_train_inds[i]])\n",
    "    kf_test_accuracies[i] = compute_accuracy(Y_kf_test_predicted, Y_train[kf_test_inds[i]])\n",
    "    \n",
    "print('mean for test folds = {:.2f}'.format(np.mean(kf_test_accuracies)))"
   ]
  },
  {
   "cell_type": "code",
   "execution_count": null,
   "metadata": {},
   "outputs": [],
   "source": [
    "# fit the tree\n",
    "clf = tree.DecisionTreeClassifier(max_depth=3, min_samples_leaf=4)\n",
    "clf = clf.fit(X_train, Y_train)\n",
    "\n",
    "# predict on the held-out data\n",
    "Y_test_predicted = clf.predict(X_test)\n",
    "\n",
    "# accuracy\n",
    "accuracy = compute_accuracy(Y_test_predicted, Y_test)\n",
    "print('accuracy on held-out data = {:.2f}'.format(accuracy))"
   ]
  },
  {
   "cell_type": "markdown",
   "metadata": {},
   "source": [
    "> <font color='red'>Logistic regression:</font>"
   ]
  },
  {
   "cell_type": "code",
   "execution_count": null,
   "metadata": {},
   "outputs": [],
   "source": [
    "# logistic regression with cross validation built in\n",
    "logreg = LogisticRegressionCV(cv=10, random_state=np.random.seed(22))\n",
    "logreg = logreg.fit(X_train, Y_train)\n",
    "\n",
    "# predict on held-out data\n",
    "Y_test_predicted = logreg.predict(X_test)\n",
    "\n",
    "# accuracy\n",
    "accuracy = compute_accuracy(Y_test_predicted, Y_test)\n",
    "print('accuracy on held-out data = {:.2f}'.format(accuracy))"
   ]
  },
  {
   "cell_type": "code",
   "execution_count": null,
   "metadata": {},
   "outputs": [],
   "source": [
    "# logistic regression\n",
    "logreg = LogisticRegression(solver='lbfgs')\n",
    "logreg = logreg.fit(X_train, Y_train)\n",
    "\n",
    "# predict on held-out data\n",
    "Y_test_predicted = logreg.predict(X_test)\n",
    "\n",
    "# accuracy\n",
    "accuracy = compute_accuracy(Y_test_predicted, Y_test)\n",
    "print('accuracy on held-out data = {:.2f}'.format(accuracy))"
   ]
  },
  {
   "cell_type": "markdown",
   "metadata": {},
   "source": [
    "> <font color='red'>Random forest:</font>"
   ]
  },
  {
   "cell_type": "code",
   "execution_count": null,
   "metadata": {},
   "outputs": [],
   "source": [
    "# storage vectors\n",
    "kf_train_accuracies = np.zeros(10)\n",
    "kf_test_accuracies = np.zeros(10)\n",
    "\n",
    "# iterate through folds\n",
    "for i in range(10):\n",
    "    \n",
    "    # fit the tree\n",
    "    clf = RandomForestClassifier(n_estimators=18, max_depth=3, min_samples_leaf=4,\n",
    "                                 random_state=np.random.seed(22))\n",
    "    clf = clf.fit(X_train[kf_train_inds[i]], Y_train[kf_train_inds[i]])\n",
    "    \n",
    "    # predicted values\n",
    "    Y_kf_train_predicted = clf.predict(X_train[kf_train_inds[i]])\n",
    "    Y_kf_test_predicted = clf.predict(X_train[kf_test_inds[i]])\n",
    "    \n",
    "    # accuracies\n",
    "    kf_train_accuracies[i] = compute_accuracy(Y_kf_train_predicted, Y_train[kf_train_inds[i]])\n",
    "    kf_test_accuracies[i] = compute_accuracy(Y_kf_test_predicted, Y_train[kf_test_inds[i]])\n",
    "    \n",
    "print('mean for test folds = {:.2f}'.format(np.mean(kf_test_accuracies)))"
   ]
  },
  {
   "cell_type": "code",
   "execution_count": null,
   "metadata": {},
   "outputs": [],
   "source": [
    "# fit the tree\n",
    "clf = RandomForestClassifier(n_estimators=18, max_depth=3, min_samples_leaf=4,\n",
    "                             random_state=np.random.seed(22))\n",
    "clf = clf.fit(X_train, Y_train)\n",
    "\n",
    "# predict on the held-out data\n",
    "Y_test_predicted = clf.predict(X_test)\n",
    "\n",
    "# accuracy\n",
    "accuracy = compute_accuracy(Y_test_predicted, Y_test)\n",
    "print('accuracy on held-out data = {:.2f}'.format(accuracy))"
   ]
  },
  {
   "cell_type": "markdown",
   "metadata": {},
   "source": [
    "> <font color='red'>Gradient boosting:</font>"
   ]
  },
  {
   "cell_type": "code",
   "execution_count": null,
   "metadata": {},
   "outputs": [],
   "source": [
    "# storage vectors\n",
    "kf_train_accuracies = np.zeros(10)\n",
    "kf_test_accuracies = np.zeros(10)\n",
    "\n",
    "# iterate through folds\n",
    "for i in range(10):\n",
    "    \n",
    "    # fit the tree\n",
    "    clf = GradientBoostingClassifier(learning_rate=0.01, max_depth=3, min_samples_leaf=4,\n",
    "                                     random_state=np.random.seed(22))\n",
    "    clf = clf.fit(X_train[kf_train_inds[i]], Y_train[kf_train_inds[i]])\n",
    "    \n",
    "    # predicted values\n",
    "    Y_kf_train_predicted = clf.predict(X_train[kf_train_inds[i]])\n",
    "    Y_kf_test_predicted = clf.predict(X_train[kf_test_inds[i]])\n",
    "    \n",
    "    # accuracies\n",
    "    kf_train_accuracies[i] = compute_accuracy(Y_kf_train_predicted, Y_train[kf_train_inds[i]])\n",
    "    kf_test_accuracies[i] = compute_accuracy(Y_kf_test_predicted, Y_train[kf_test_inds[i]])\n",
    "    \n",
    "print('mean for test folds = {:.2f}'.format(np.mean(kf_test_accuracies)))"
   ]
  },
  {
   "cell_type": "code",
   "execution_count": null,
   "metadata": {},
   "outputs": [],
   "source": [
    "# fit the tree\n",
    "clf = GradientBoostingClassifier(learning_rate=0.01, max_depth=3, min_samples_leaf=4,\n",
    "                                 random_state=np.random.seed(22))\n",
    "clf = clf.fit(X_train, Y_train)\n",
    "\n",
    "# predict on the held-out data\n",
    "Y_test_predicted = clf.predict(X_test)\n",
    "\n",
    "# accuracy\n",
    "accuracy = compute_accuracy(Y_test_predicted, Y_test)\n",
    "print('accuracy on held-out data = {:.2f}'.format(accuracy))"
   ]
  },
  {
   "cell_type": "markdown",
   "metadata": {},
   "source": [
    "> <font color='red'>Put it all together:</font>\n",
    "\n",
    "| Model | Cross-validated Performance | Test Performance | \n",
    "|-------|-----------------------------|------------------|\n",
    "| Decision Tree                                                      | 0.79 | 0.86 |\n",
    "| Decision Tree (with imputed missing values and new features)       | 0.84 | 0.80 |\n",
    "| Logistic Regression                                                | 0.84 | 0.84 |\n",
    "| Logistic Regression (with imputed missing values and new features) | 0.78 | 0.78 |\n",
    "| Random Forest                                                      | 0.80 | 0.86 |\n",
    "| Random Forest (with imputed missing values and new features)       | 0.82 | 0.81 |\n",
    "| Gradient Boosting                                                  | 0.80 | 0.86 | \n",
    "| Gradient Boosting (with imputed missing values and new features)   | 0.81 | 0.80 |\n",
    "\n",
    "> <font color='red'>As we can see, what was discussed above holds here. The decision tree, random forest, and gradient boosting all perform about as well as each other on the held out test data, and the logistic regression does slightly worse. Furthermore, imputing values makes the model perform worse, because we are effectively making up data that does not necessarily improve the predictive power of the model. Finally, it is iteresting to note that the single tuned decision tree does equally as well as the more sophisticated random forest and gradient boosting methods. This may be because I did not tune the random forest and gradient boosting models extensively - it would have been possible to retune every hyperparameter of each of these models instead of simply carrying over the tuned hyperparameters from the decision tree, which would likely have led to slightly better performance.</font>"
   ]
  }
 ],
 "metadata": {
  "anaconda-cloud": {},
  "kernelspec": {
   "display_name": "Python 3",
   "language": "python",
   "name": "python3"
  },
  "language_info": {
   "codemirror_mode": {
    "name": "ipython",
    "version": 3
   },
   "file_extension": ".py",
   "mimetype": "text/x-python",
   "name": "python",
   "nbconvert_exporter": "python",
   "pygments_lexer": "ipython3",
   "version": "3.6.8"
  },
  "toc": {
   "nav_menu": {},
   "number_sections": false,
   "sideBar": true,
   "skip_h1_title": false,
   "title_cell": "Table of Contents",
   "title_sidebar": "Contents",
   "toc_cell": false,
   "toc_position": {
    "height": "calc(100% - 180px)",
    "left": "10px",
    "top": "150px",
    "width": "241px"
   },
   "toc_section_display": true,
   "toc_window_display": true
  }
 },
 "nbformat": 4,
 "nbformat_minor": 2
}
