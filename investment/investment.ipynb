{
 "cells": [
  {
   "cell_type": "markdown",
   "metadata": {},
   "source": [
    "# Exploration of Investment Scenarios\n",
    "\n",
    "This notebook visualizes the differences in outcome when I move money around between savings and investment accounts in the short term."
   ]
  },
  {
   "cell_type": "code",
   "execution_count": 1,
   "metadata": {},
   "outputs": [],
   "source": [
    "import pandas as pd\n",
    "import numpy as np\n",
    "import matplotlib.pyplot as plt\n",
    "\n",
    "import sys\n",
    "sys.path.append('../')\n",
    "from functions import *"
   ]
  },
  {
   "cell_type": "markdown",
   "metadata": {},
   "source": [
    "Compound interest formula:\n",
    "\n",
    "$$\n",
    "A = P\\left(1+\\frac{r}{n}\\right)^{nt}\n",
    "$$\n",
    "\n",
    "where:\n",
    "\n",
    "* $A$ = the future value of the investment/loan, including interest\n",
    "* $P$ = the principal investment amount (the initial deposit or loan amount)\n",
    "* $r$ = the annual interest rate (decimal)\n",
    "* $n$ = the number of times that interest is compounded per year\n",
    "* $t$ = the number of years the money is invested or borrowed for"
   ]
  },
  {
   "cell_type": "code",
   "execution_count": 2,
   "metadata": {},
   "outputs": [],
   "source": [
    "def compound_interest(P, r, n, t):\n",
    "    \"\"\"\n",
    "    Calculate compound interest.\n",
    "    \n",
    "    Paramaters\n",
    "    ----------\n",
    "    P : float\n",
    "        principal investment amount\n",
    "        \n",
    "    r : float\n",
    "        the annual interest rate (as a fraction)\n",
    "    \n",
    "    n : float\n",
    "        the number of times that interest is compounded per year\n",
    "    \n",
    "    t : float\n",
    "        the number of years the money is invested or borrowed for\n",
    "        \n",
    "    Returns\n",
    "    -------\n",
    "    A : float\n",
    "        the future value of the investment/loan, including interest\n",
    "    \"\"\"\n",
    "    A = P * (1 + (r/n))**(n*t)\n",
    "    return A"
   ]
  },
  {
   "cell_type": "markdown",
   "metadata": {},
   "source": [
    "My savings account has a guaranteed annual return of 2.29%, and diversified investments have an average annual return of around 7% (in the long term - for example see [this article](https://www.thesimpledollar.com/where-does-7-come-from-when-it-comes-to-long-term-stock-returns/)), though of course with significant risk in the short term:"
   ]
  },
  {
   "cell_type": "code",
   "execution_count": 3,
   "metadata": {},
   "outputs": [],
   "source": [
    "r_saving = 0.0229\n",
    "r_invest = 0.07"
   ]
  },
  {
   "cell_type": "markdown",
   "metadata": {},
   "source": [
    "Let's not divulge any specifics, and say that I have $1.00 in my savings at the moment, that I'll be investing for 2 years, and that interest is compounded each month."
   ]
  },
  {
   "cell_type": "code",
   "execution_count": 4,
   "metadata": {},
   "outputs": [],
   "source": [
    "P_tot = 1\n",
    "t_years = 2\n",
    "n = 12"
   ]
  },
  {
   "cell_type": "markdown",
   "metadata": {},
   "source": [
    "What if we split it 75:25 (savings:investments)?"
   ]
  },
  {
   "cell_type": "code",
   "execution_count": 5,
   "metadata": {},
   "outputs": [
    {
     "data": {
      "image/png": "[encoded data removed]",
      "text/plain": [
       "<Figure size 432x288 with 1 Axes>"
      ]
     },
     "metadata": {
      "needs_background": "light"
     },
     "output_type": "display_data"
    },
    {
     "name": "stdout",
     "output_type": "stream",
     "text": [
      "final total = $1.07\n"
     ]
    }
   ],
   "source": [
    "R_1 = 0.75\n",
    "\n",
    "# assign the principal in each account\n",
    "P_saving_1 = P_tot * R_1\n",
    "P_invest_1 = P_tot - P_saving_1\n",
    "\n",
    "# create the time array\n",
    "t = np.linspace(0,t_years,n*t_years)\n",
    "\n",
    "# calculate the projected value\n",
    "A_saving_1 = compound_interest(P_saving_1, r_saving, n, t)\n",
    "A_invest_1 = compound_interest(P_invest_1, r_invest, n, t)\n",
    "A_total_1 = A_saving_1 + A_invest_1\n",
    "\n",
    "# plot\n",
    "c_saving = '#59a8d9'\n",
    "c_invest = '#175073'\n",
    "c_total = '#03a64a'\n",
    "c_bg = '#222222'\n",
    "c_ax = '#eeeeee'\n",
    "\n",
    "fig, ax = plt.subplots()\n",
    "\n",
    "ax.plot(t, A_saving_1, c=c_saving, label='savings')\n",
    "ax.plot(t, A_invest_1, c=c_invest, label='investments')\n",
    "ax.plot(t, A_total_1, c=c_total, label='total')\n",
    "\n",
    "ax.set_title('75 savings : 25 investments')\n",
    "ax.set_xlabel('years')\n",
    "ax.set_ylabel('$')\n",
    "ax.legend()\n",
    "\n",
    "plt.show(fig)\n",
    "\n",
    "# then print\n",
    "print('final total = ${:.2f}'.format(A_total_1[-1]))"
   ]
  },
  {
   "cell_type": "markdown",
   "metadata": {},
   "source": [
    "And 50:50?"
   ]
  },
  {
   "cell_type": "code",
   "execution_count": 6,
   "metadata": {},
   "outputs": [
    {
     "data": {
      "image/png": "[encoded data removed]",
      "text/plain": [
       "<Figure size 432x288 with 1 Axes>"
      ]
     },
     "metadata": {
      "needs_background": "light"
     },
     "output_type": "display_data"
    },
    {
     "name": "stdout",
     "output_type": "stream",
     "text": [
      "final total = $1.10\n"
     ]
    }
   ],
   "source": [
    "R_2 = 0.50\n",
    "\n",
    "# assign the principal in each account\n",
    "P_saving_2 = P_tot * R_2\n",
    "P_invest_2 = P_tot - P_saving_2\n",
    "\n",
    "# calculate the projected value\n",
    "A_saving_2 = compound_interest(P_saving_2, r_saving, n, t)\n",
    "A_invest_2 = compound_interest(P_invest_2, r_invest, n, t)\n",
    "A_total_2 = A_saving_2 + A_invest_2\n",
    "\n",
    "# plot\n",
    "\n",
    "fig, ax = plt.subplots()\n",
    "\n",
    "ax.plot(t, A_saving_2, c=c_saving, label='savings')\n",
    "ax.plot(t, A_invest_2, c=c_invest, label='investments')\n",
    "ax.plot(t, A_total_2, c=c_total, label='total')\n",
    "\n",
    "ax.set_title('50 savings : 50 investments')\n",
    "ax.set_xlabel('years')\n",
    "ax.set_ylabel('$')\n",
    "ax.legend()\n",
    "\n",
    "plt.show(fig)\n",
    "\n",
    "# then print\n",
    "print('final total = ${:.2f}'.format(A_total_2[-1]))"
   ]
  },
  {
   "cell_type": "markdown",
   "metadata": {},
   "source": [
    "Compare the two:"
   ]
  },
  {
   "cell_type": "code",
   "execution_count": 7,
   "metadata": {},
   "outputs": [
    {
     "data": {
      "image/png": "[encoded data removed]",
      "text/plain": [
       "<Figure size 432x288 with 1 Axes>"
      ]
     },
     "metadata": {
      "needs_background": "light"
     },
     "output_type": "display_data"
    }
   ],
   "source": [
    "fig, ax = plt.subplots()\n",
    "\n",
    "ax.fill_between(t, A_saving_1, A_saving_2, color=c_saving, label='savings', alpha=0.5)\n",
    "ax.fill_between(t, A_invest_1, A_invest_2, color=c_invest, label='investments', alpha=0.5)\n",
    "ax.fill_between(t, A_total_1, A_total_2, color=c_total, label='total')\n",
    "\n",
    "ax.set_xlabel('years')\n",
    "ax.set_ylabel('$')\n",
    "ax.legend()\n",
    "\n",
    "plt.show(fig)"
   ]
  }
 ],
 "metadata": {
  "kernelspec": {
   "display_name": "Python 3",
   "language": "python",
   "name": "python3"
  },
  "language_info": {
   "codemirror_mode": {
    "name": "ipython",
    "version": 3
   },
   "file_extension": ".py",
   "mimetype": "text/x-python",
   "name": "python",
   "nbconvert_exporter": "python",
   "pygments_lexer": "ipython3",
   "version": "3.6.8"
  },
  "toc": {
   "nav_menu": {},
   "number_sections": false,
   "sideBar": true,
   "skip_h1_title": false,
   "title_cell": "Table of Contents",
   "title_sidebar": "Contents",
   "toc_cell": false,
   "toc_position": {},
   "toc_section_display": true,
   "toc_window_display": false
  }
 },
 "nbformat": 4,
 "nbformat_minor": 2
}
